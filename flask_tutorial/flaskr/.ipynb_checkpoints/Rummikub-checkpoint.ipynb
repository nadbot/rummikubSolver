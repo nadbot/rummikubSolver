{
 "cells": [
  {
   "cell_type": "code",
   "execution_count": 187,
   "metadata": {},
   "outputs": [],
   "source": [
    "import torch\n",
    "from sklearn import cluster\n",
    "from sklearn.cluster import KMeans\n",
    "import numpy as np\n",
    "device = 'cpu'"
   ]
  },
  {
   "cell_type": "markdown",
   "metadata": {},
   "source": [
    "Create test data (format of chip: [number, black, blue, red, yellow, id(0 or 1)])"
   ]
  },
  {
   "cell_type": "code",
   "execution_count": 3,
   "metadata": {},
   "outputs": [],
   "source": [
    "gameboard = [[[1,1,0,0,0],[2,1,0,0,0],[3,1,0,0,0]], [(5,0,1,0,0),(6,0,1,0,0),(7,0,1,0,0)], [(11,1,0,0,0),(11,0,1,0,0),(11,0,0,1,0)]]\n",
    "add = [(8,0,1,0,0),(11,0,0,0,1)]\n"
   ]
  },
  {
   "cell_type": "code",
   "execution_count": 4,
   "metadata": {},
   "outputs": [],
   "source": []
  },
  {
   "cell_type": "code",
   "execution_count": 5,
   "metadata": {},
   "outputs": [
    {
     "ename": "NameError",
     "evalue": "name 'X' is not defined",
     "output_type": "error",
     "traceback": [
      "\u001b[1;31m---------------------------------------------------------------------------\u001b[0m",
      "\u001b[1;31mNameError\u001b[0m                                 Traceback (most recent call last)",
      "\u001b[1;32m<ipython-input-5-0fc603ab2339>\u001b[0m in \u001b[0;36m<module>\u001b[1;34m\u001b[0m\n\u001b[0;32m      1\u001b[0m f = torch.nn.Sequential(\n\u001b[1;32m----> 2\u001b[1;33m     \u001b[0mtorch\u001b[0m\u001b[1;33m.\u001b[0m\u001b[0mnn\u001b[0m\u001b[1;33m.\u001b[0m\u001b[0mLinear\u001b[0m\u001b[1;33m(\u001b[0m\u001b[0min_features\u001b[0m\u001b[1;33m=\u001b[0m\u001b[0mlen\u001b[0m\u001b[1;33m(\u001b[0m\u001b[0mX\u001b[0m\u001b[1;33m)\u001b[0m\u001b[1;33m,\u001b[0m \u001b[0mout_features\u001b[0m\u001b[1;33m=\u001b[0m\u001b[1;36m12\u001b[0m\u001b[1;33m)\u001b[0m\u001b[1;33m,\u001b[0m\u001b[1;33m\u001b[0m\u001b[1;33m\u001b[0m\u001b[0m\n\u001b[0m\u001b[0;32m      3\u001b[0m     \u001b[0mtorch\u001b[0m\u001b[1;33m.\u001b[0m\u001b[0mnn\u001b[0m\u001b[1;33m.\u001b[0m\u001b[0mReLU\u001b[0m\u001b[1;33m(\u001b[0m\u001b[1;33m)\u001b[0m\u001b[1;33m,\u001b[0m\u001b[1;33m\u001b[0m\u001b[1;33m\u001b[0m\u001b[0m\n\u001b[0;32m      4\u001b[0m     \u001b[0mtorch\u001b[0m\u001b[1;33m.\u001b[0m\u001b[0mnn\u001b[0m\u001b[1;33m.\u001b[0m\u001b[0mLinear\u001b[0m\u001b[1;33m(\u001b[0m\u001b[0min_features\u001b[0m\u001b[1;33m=\u001b[0m\u001b[1;36m12\u001b[0m\u001b[1;33m,\u001b[0m \u001b[0mout_features\u001b[0m\u001b[1;33m=\u001b[0m\u001b[0mlen\u001b[0m\u001b[1;33m(\u001b[0m\u001b[0mX\u001b[0m\u001b[1;33m)\u001b[0m\u001b[1;33m)\u001b[0m\u001b[1;33m,\u001b[0m\u001b[1;33m\u001b[0m\u001b[1;33m\u001b[0m\u001b[0m\n\u001b[0;32m      5\u001b[0m     \u001b[0mtorch\u001b[0m\u001b[1;33m.\u001b[0m\u001b[0mnn\u001b[0m\u001b[1;33m.\u001b[0m\u001b[0mSigmoid\u001b[0m\u001b[1;33m(\u001b[0m\u001b[1;33m)\u001b[0m\u001b[1;33m\u001b[0m\u001b[1;33m\u001b[0m\u001b[0m\n",
      "\u001b[1;31mNameError\u001b[0m: name 'X' is not defined"
     ]
    }
   ],
   "source": [
    "f = torch.nn.Sequential(\n",
    "    torch.nn.Linear(in_features=len(X), out_features=12),\n",
    "    torch.nn.ReLU(), \n",
    "    torch.nn.Linear(in_features=12, out_features=len(X)), \n",
    "    torch.nn.Sigmoid()  \n",
    ").to(device)\n",
    "\n",
    "loss_fn = torch.nn.MSELoss()"
   ]
  },
  {
   "cell_type": "markdown",
   "metadata": {},
   "source": [
    "# K Means"
   ]
  },
  {
   "cell_type": "markdown",
   "metadata": {},
   "source": [
    "Use K-means to cluster cells together to create streets or sets. Does not work if long streets exist or multiple streets are similar. Number of clusters needs to be fine tuned for every move\n",
    "\n",
    "TODO to get streets use value 100 for color (need distance 200 to change color --> will not happen)\n",
    "\n",
    "to get sets use value 100 for value\n",
    "     \n",
    "How to get combination of both??? How to define when to use street and when set? Maybe use neural net instead of kmeans as it might recognize streets"
   ]
  },
  {
   "cell_type": "code",
   "execution_count": 6,
   "metadata": {},
   "outputs": [
    {
     "name": "stdout",
     "output_type": "stream",
     "text": [
      "[[2.75       0.25       0.25       0.         0.5       ]\n",
      " [1.33333333 0.         0.66666667 0.         0.33333333]\n",
      " [1.5        1.         0.         0.         0.        ]\n",
      " [2.         0.         0.         1.         0.        ]]\n",
      "[3 3 3 2 2 2 1 1 1 0 0 0]\n"
     ]
    }
   ],
   "source": [
    "X = np.array([[1,0,0,1,0], [2,0,0,1,0], [3,0,0,1,0],\n",
    "              [1,1,0,0,0], [2,1,0,0,0], [3,1,0,0,0],\n",
    "              [1,0,1,0,0], [2,0,1,0,0], [3,0,1,0,0],\n",
    "              [1,0,0,0,1], [2,0,0,0,1], [3,0,0,0,1]])\n",
    "\n",
    "kmeans = KMeans(n_clusters=4, random_state=0).fit(X)\n",
    "kmeans.labels_\n",
    "\n",
    "p = kmeans.predict([[1,0,0,100,0], [2,0,0,100,0], [3,0,0,100,0],\n",
    "              [1,100,0,0,0], [2,100,0,0,0], [3,100,0,0,0],\n",
    "              [1,0,100,0,0], [2,0,100,0,0], [3,0,100,0,0],\n",
    "              [1,0,0,0,100], [2,0,0,0,100], [3,0,0,0,100]])\n",
    "print(kmeans.cluster_centers_)\n",
    "print(p)"
   ]
  },
  {
   "cell_type": "code",
   "execution_count": 7,
   "metadata": {},
   "outputs": [
    {
     "name": "stdout",
     "output_type": "stream",
     "text": [
      "[[ 6.          0.          1.          0.          0.        ]\n",
      " [11.          0.33333333  0.33333333  0.33333333  0.        ]\n",
      " [ 2.          1.          0.          0.          0.        ]]\n",
      "[2 2 2 0 0 0 1 1 1 2 0 1]\n"
     ]
    }
   ],
   "source": [
    "X = np.array([[1,1,0,0,0],[2,1,0,0,0],[3,1,0,0,0], [5,0,1,0,0],[6,0,1,0,0],[7,0,1,0,0], [11,1,0,0,0],[11,0,1,0,0],[11,0,0,1,0]])\n",
    "kmeans = KMeans(n_clusters=3, random_state=0).fit(X)\n",
    "kmeans.labels_\n",
    "\n",
    "p = kmeans.predict([[1,1,0,0,0],[2,1,0,0,0],[3,1,0,0,0], \n",
    "                    [5,0,1,0,0],[6,0,1,0,0],[7,0,1,0,0],\n",
    "                    [11,1,0,0,0],[11,0,1,0,0],[11,0,0,1,0],\n",
    "                    [4,1,0,0,0], [8,0,1,0,0], [10,1,0,0,0]])\n",
    "print(kmeans.cluster_centers_)\n",
    "print(p)"
   ]
  },
  {
   "cell_type": "markdown",
   "metadata": {},
   "source": [
    "# Neural net"
   ]
  },
  {
   "cell_type": "code",
   "execution_count": 8,
   "metadata": {},
   "outputs": [],
   "source": [
    "# x = torch.rand(5, device=device)\n",
    "# x = torch.FloatTensor(list(add[1]))\n",
    "# y = f(x)\n",
    "# print(y)\n",
    "X = np.array([[1,0,0,1,0], [2,0,0,1,0], [3,0,0,1,0],\n",
    "              [1,1,0,0,0], [2,1,0,0,0], [3,1,0,0,0],\n",
    "              [1,0,1,0,0], [2,0,1,0,0], [3,0,1,0,0],\n",
    "              [1,0,0,0,1], [2,0,0,0,1], [3,0,0,0,1]])"
   ]
  },
  {
   "cell_type": "code",
   "execution_count": 9,
   "metadata": {},
   "outputs": [],
   "source": [
    "f = torch.nn.Sequential(\n",
    "    torch.nn.Linear(in_features=len(X), out_features=12),\n",
    "    torch.nn.ReLU(), \n",
    "    torch.nn.Linear(in_features=12, out_features=len(X)), \n",
    "    torch.nn.Sigmoid()  \n",
    ").to(device)\n",
    "\n",
    "loss_fn = torch.nn.MSELoss()"
   ]
  },
  {
   "cell_type": "code",
   "execution_count": 10,
   "metadata": {},
   "outputs": [],
   "source": [
    "def set_reward(correct, played_points, done, crash):\n",
    "    reward = 0\n",
    "    if not correct:\n",
    "        reward = 0\n",
    "        return reward\n",
    "    elif done:\n",
    "        reward = 100\n",
    "        return reward\n",
    "    elif crash:\n",
    "        reward = -10\n",
    "        return reward\n",
    "    else:\n",
    "        reward = played_points\n",
    "    return reward"
   ]
  },
  {
   "cell_type": "code",
   "execution_count": 11,
   "metadata": {},
   "outputs": [
    {
     "ename": "NameError",
     "evalue": "name 'x' is not defined",
     "output_type": "error",
     "traceback": [
      "\u001b[1;31m---------------------------------------------------------------------------\u001b[0m",
      "\u001b[1;31mNameError\u001b[0m                                 Traceback (most recent call last)",
      "\u001b[1;32m<ipython-input-11-25781fa0ac43>\u001b[0m in \u001b[0;36m<module>\u001b[1;34m\u001b[0m\n\u001b[0;32m      1\u001b[0m \u001b[0mopt\u001b[0m \u001b[1;33m=\u001b[0m \u001b[0mtorch\u001b[0m\u001b[1;33m.\u001b[0m\u001b[0moptim\u001b[0m\u001b[1;33m.\u001b[0m\u001b[0mAdam\u001b[0m\u001b[1;33m(\u001b[0m\u001b[0mf\u001b[0m\u001b[1;33m.\u001b[0m\u001b[0mparameters\u001b[0m\u001b[1;33m(\u001b[0m\u001b[1;33m)\u001b[0m\u001b[1;33m)\u001b[0m  \u001b[1;31m# initiate optimizer\u001b[0m\u001b[1;33m\u001b[0m\u001b[1;33m\u001b[0m\u001b[0m\n\u001b[0;32m      2\u001b[0m \u001b[1;32mfor\u001b[0m \u001b[0mt\u001b[0m \u001b[1;32min\u001b[0m \u001b[0mrange\u001b[0m\u001b[1;33m(\u001b[0m\u001b[1;36m5001\u001b[0m\u001b[1;33m)\u001b[0m\u001b[1;33m:\u001b[0m  \u001b[1;31m# iterate\u001b[0m\u001b[1;33m\u001b[0m\u001b[1;33m\u001b[0m\u001b[0m\n\u001b[1;32m----> 3\u001b[1;33m     \u001b[0mprediction\u001b[0m \u001b[1;33m=\u001b[0m \u001b[0mf\u001b[0m\u001b[1;33m(\u001b[0m\u001b[0mx\u001b[0m\u001b[1;33m)\u001b[0m  \u001b[1;31m# predict\u001b[0m\u001b[1;33m\u001b[0m\u001b[1;33m\u001b[0m\u001b[0m\n\u001b[0m\u001b[0;32m      4\u001b[0m     \u001b[0mloss\u001b[0m \u001b[1;33m=\u001b[0m \u001b[0mloss_fn\u001b[0m\u001b[1;33m(\u001b[0m\u001b[0mprediction\u001b[0m\u001b[1;33m,\u001b[0m \u001b[0my\u001b[0m\u001b[1;33m)\u001b[0m  \u001b[1;31m# compute loss\u001b[0m\u001b[1;33m\u001b[0m\u001b[1;33m\u001b[0m\u001b[0m\n\u001b[0;32m      5\u001b[0m     \u001b[0mloss\u001b[0m\u001b[1;33m.\u001b[0m\u001b[0mbackward\u001b[0m\u001b[1;33m(\u001b[0m\u001b[1;33m)\u001b[0m  \u001b[1;31m# backpropagate\u001b[0m\u001b[1;33m\u001b[0m\u001b[1;33m\u001b[0m\u001b[0m\n",
      "\u001b[1;31mNameError\u001b[0m: name 'x' is not defined"
     ]
    }
   ],
   "source": [
    "opt = torch.optim.Adam(f.parameters())  # initiate optimizer\n",
    "for t in range(5001):  # iterate\n",
    "    prediction = f(x)  # predict \n",
    "    loss = loss_fn(prediction, y)  # compute loss\n",
    "    loss.backward()  # backpropagate\n",
    "    opt.step()  # optimize\n",
    "    opt.zero_grad()  # reset gradients\n",
    "    if t%500 == 0:\n",
    "        print('Iteration {} loss: {}'.format(t, loss.item()))"
   ]
  },
  {
   "cell_type": "markdown",
   "metadata": {},
   "source": [
    "# Supervised learning"
   ]
  },
  {
   "cell_type": "markdown",
   "metadata": {},
   "source": [
    "## Function to check correctness of gameboard + extra chips"
   ]
  },
  {
   "cell_type": "code",
   "execution_count": 161,
   "metadata": {},
   "outputs": [],
   "source": [
    "def check_all_chips_still_there(old_hand, new_hand, old_gameboard, new_gameboard):\n",
    "    \"\"\"\n",
    "    Checks if all elements of the old hand + old gameboard are still in new gameboard and new hand\n",
    "    :param old_hand: Hand before the move\n",
    "    :param new_hand: Hand after the move\n",
    "    :param old_gameboard: Gameboard before the move\n",
    "    :param new_gameboard: Gameboard after the move\n",
    "    :return: True, if all chips are still there, no chips deleted or added\n",
    "    \"\"\"\n",
    "    flat_list_old_gameboard = [item for sublist in old_gameboard for item in sublist]\n",
    "    flat_list_new_gameboard = [item for sublist in new_gameboard for item in sublist]\n",
    "    # merge hand and gameboard together\n",
    "    flat_list_old_gameboard.extend(old_hand)\n",
    "    flat_list_new_gameboard.extend(new_hand)\n",
    "    # print(\"extended lists\")\n",
    "    # print(flat_list_old_gameboard)\n",
    "    # print(flat_list_new_gameboard)\n",
    "    for element in flat_list_old_gameboard:\n",
    "        if element not in flat_list_new_gameboard:\n",
    "            return False\n",
    "    for element in flat_list_new_gameboard:\n",
    "        if element not in flat_list_old_gameboard:\n",
    "            return False\n",
    "    return True\n",
    "\n",
    "\n",
    "def check_all_chips_still_on_gameboard(old_gameboard, new_gameboard):\n",
    "    \"\"\"\n",
    "    Checks if all chips that were on the gameboard before the turn are still there (the person did not pick any up)\n",
    "    :param old_gameboard: Gameboard before the move\n",
    "    :param new_gameboard: Gameboard after the move\n",
    "    :return: True, if all chips are still there, otherwise False\n",
    "    \"\"\"\n",
    "    flat_list_old_gameboard = [item for sublist in old_gameboard for item in sublist]\n",
    "    flat_list_new_gameboard = [item for sublist in new_gameboard for item in sublist]\n",
    "    for element in flat_list_old_gameboard:\n",
    "        if element not in flat_list_new_gameboard:\n",
    "            return False\n",
    "    return True\n",
    "\n",
    "\n",
    "def check_correct_streets(new_gameboard):\n",
    "    \"\"\"\n",
    "    Checks if each street is either multiple of a kind or an actual street\n",
    "    TODO add jokers\n",
    "    Does not accept streets in the wrong order\n",
    "    :param new_gameboard: Gameboard that is being checked\n",
    "    :return: True if all streets are correct, otherwise False\n",
    "    \"\"\"\n",
    "    for street in new_gameboard:\n",
    "        # variable to determine whether street is 3 of a kind or actual street (will be updated only once per street)\n",
    "        street_kind = None\n",
    "        colors = []\n",
    "        if len(street) == 0:\n",
    "            continue\n",
    "        if len(street) < 3:\n",
    "            return False\n",
    "        for index in range(len(street)-1):\n",
    "            number, black, blue, red, yellow, _ = street[index]\n",
    "            color = [black, blue, red, yellow]\n",
    "            next_number, black, blue, red, yellow, _ = street[index+1]\n",
    "            next_color = [black, blue, red, yellow]\n",
    "            if number == next_number:\n",
    "                if color != next_color and color not in colors:\n",
    "                    if street_kind is None:\n",
    "                        street_kind = 'kind'\n",
    "                    elif street_kind is 'street':\n",
    "                        return False\n",
    "                    # street is more of a kind\n",
    "                    colors.append(color)\n",
    "                else:\n",
    "                    return False\n",
    "            elif number+1 == next_number and color == next_color:\n",
    "                if street_kind is None:\n",
    "                    street_kind = 'street'\n",
    "                elif street_kind is 'kind':\n",
    "                    return False\n",
    "                continue\n",
    "            else:\n",
    "                return False\n",
    "    return True\n",
    "\n",
    "def points_played(old_hand, new_hand):\n",
    "    played_points = 0\n",
    "    for element in old_hand:\n",
    "        if element not in new_hand:\n",
    "            played_points += element[0]\n",
    "    return played_points\n",
    "\n",
    "def check_move(old_hand, new_hand, old_gameboard, new_gameboard):\n",
    "    \"\"\"\n",
    "    :param old_hand: Hand with drawn chip but before any moves\n",
    "    :param new_hand: Hand after moving completed\n",
    "    :param old_gameboard: Gameboard before any moves\n",
    "    :param new_gameboard: Gameboard after any moves\n",
    "    :return: True, if move correct, else false\n",
    "    \"\"\"\n",
    "    # TODO add check if chips are shown twice\n",
    "    \n",
    "    # check if all chips are still there\n",
    "    all_chips_there = check_all_chips_still_there(old_hand, new_hand, old_gameboard, new_gameboard)\n",
    "    # check if all elements on gameboard are still on gameboard\n",
    "    all_chips_still_on_gameboard = check_all_chips_still_on_gameboard(old_gameboard, new_gameboard)\n",
    "    # check if gameboard contains only correct streets\n",
    "    all_streets_correct = check_correct_streets(new_gameboard)\n",
    "    # calculate played points\n",
    "    played_points = points_played(old_hand, new_hand)\n",
    "    return all_chips_there & all_chips_still_on_gameboard & all_streets_correct, played_points\n",
    "\n",
    "def get_colors():\n",
    "    color_id = np.random.randint(0,4)\n",
    "    if color_id == 0: #black\n",
    "        color_black = 1\n",
    "        color_blue = 0\n",
    "        color_red = 0\n",
    "        color_yellow = 0\n",
    "    elif color_id == 1: #blue\n",
    "        color_black = 0\n",
    "        color_blue = 1\n",
    "        color_red = 0\n",
    "        color_yellow = 0\n",
    "    elif color_id == 2: #red\n",
    "        color_black = 0\n",
    "        color_blue = 0\n",
    "        color_red = 1\n",
    "        color_yellow = 0\n",
    "    elif color_id == 3: #yellow\n",
    "        color_black = 0\n",
    "        color_blue = 0\n",
    "        color_red = 0\n",
    "        color_yellow = 1\n",
    "    return color_black, color_blue, color_red, color_yellow"
   ]
  },
  {
   "cell_type": "code",
   "execution_count": 162,
   "metadata": {},
   "outputs": [
    {
     "name": "stdout",
     "output_type": "stream",
     "text": [
      "True\n",
      "11\n"
     ]
    }
   ],
   "source": [
    "old_gameboard = [[[1,1,0,0,0,0],[2,1,0,0,0,0],[3,1,0,0,0,0]], [[5,0,1,0,0,0],[6,0,1,0,0,0],[7,0,1,0,0,0]], [[11,1,0,0,0,0],[11,0,1,0,0,0],[11,0,0,1,0,0]]]\n",
    "old_hand = [[8,0,1,0,0,0],[11,0,0,0,1,0]]\n",
    "new_gameboard = [[[1,1,0,0,0,0],[2,1,0,0,0,0],[3,1,0,0,0,0]], [[5,0,1,0,0,0],[6,0,1,0,0,0],[7,0,1,0,0,0]], [[11,1,0,0,0,0],[11,0,1,0,0,0],[11,0,0,0,1,0],[11,0,0,1,0,0]]]\n",
    "new_hand = [[8,0,1,0,0,0]]\n",
    "correct, points = check_move(old_hand,new_hand,old_gameboard,new_gameboard)\n",
    "print(correct)\n",
    "print(points)"
   ]
  },
  {
   "cell_type": "markdown",
   "metadata": {},
   "source": [
    "## Creating dataset"
   ]
  },
  {
   "cell_type": "code",
   "execution_count": 166,
   "metadata": {},
   "outputs": [],
   "source": [
    "import numpy as np\n",
    "def generate_random_correct_street():\n",
    "    # correct street\n",
    "    length = np.random.randint(4,14)\n",
    "    start = np.random.randint(1,13-length+2) #if length is 3, street can start between 1 and 11\n",
    "    color_black, color_blue, color_red, color_yellow = get_colors()\n",
    "    #print(start, length, color)\n",
    "    #color = np.array(color)\n",
    "    street = []\n",
    "    for number in range(length):\n",
    "        chip = [start+number, color_black, color_blue, color_red, color_yellow, 0]\n",
    "        #if chip in street:\n",
    "        #    chip = np.array([start+number,color, 1]).flatten()\n",
    "        street.append(chip)\n",
    "    #add = [start+length-1, color_black, color_blue, color_red, color_yellow, 0]\n",
    "    #street = np.array(street)\n",
    "    #print(street)\n",
    "    #print(add)\n",
    "    pos = np.random.randint(-1,1) # either remove first or last element\n",
    "    new_street = street.copy()\n",
    "    add = street.pop(pos)\n",
    "    #new_street.insert(add)\n",
    "    return street, add, new_street\n",
    "\n",
    "def generate_random_incorrect_street():\n",
    "    # correct street\n",
    "    length = np.random.randint(4,14)\n",
    "    start = np.random.randint(1,13-length+2) #if length is 3, street can start between 1 and 11\n",
    "    color_black, color_blue, color_red, color_yellow = get_colors()\n",
    "    street = []\n",
    "    for number in range(length):\n",
    "        chip = [start+number, color_black, color_blue, color_red, color_yellow, 0]\n",
    "        #if chip in street:\n",
    "        #    chip = np.array([start+number,color, 1]).flatten()\n",
    "        street.append(chip)\n",
    "    pos = np.random.randint(-1,1) # either add as first or last element\n",
    "    number = np.random.randint(1,14)\n",
    "    color_black, color_blue, color_red, color_yellow = get_colors()\n",
    "    wrong_chip = [number, color_black, color_blue, color_red, color_yellow, 0]\n",
    "    new_street = street.copy()\n",
    "    new_street.insert(pos, wrong_chip)\n",
    "    return street, wrong_chip, new_street"
   ]
  },
  {
   "cell_type": "code",
   "execution_count": 167,
   "metadata": {},
   "outputs": [],
   "source": [
    "rows = []\n",
    "for i in range(5000):\n",
    "    street, add, new_street = generate_random_correct_street()\n",
    "    correct, points = check_move([add],[],[street],[new_street])\n",
    "    #print(correct, points)\n",
    "    row = [[add],[],[street],[new_street],correct,points]\n",
    "    rows.append(row)"
   ]
  },
  {
   "cell_type": "code",
   "execution_count": 168,
   "metadata": {},
   "outputs": [],
   "source": [
    "for i in range(5000):\n",
    "    street, add, new_street = generate_random_incorrect_street()\n",
    "    correct, points = check_move([add],[],[street],[new_street])\n",
    "    #print(correct, points)\n",
    "    row = [[add],[],[street],[new_street],correct,points]\n",
    "    rows.append(row)"
   ]
  },
  {
   "cell_type": "code",
   "execution_count": 169,
   "metadata": {},
   "outputs": [
    {
     "name": "stdout",
     "output_type": "stream",
     "text": [
      "                   old_hand new_hand  \\\n",
      "0     [[10, 1, 0, 0, 0, 0]]       []   \n",
      "1      [[5, 0, 1, 0, 0, 0]]       []   \n",
      "2     [[13, 0, 1, 0, 0, 0]]       []   \n",
      "3     [[10, 1, 0, 0, 0, 0]]       []   \n",
      "4      [[1, 1, 0, 0, 0, 0]]       []   \n",
      "...                     ...      ...   \n",
      "9995  [[11, 0, 1, 0, 0, 0]]       []   \n",
      "9996   [[1, 0, 0, 0, 1, 0]]       []   \n",
      "9997   [[7, 0, 0, 0, 1, 0]]       []   \n",
      "9998   [[5, 0, 1, 0, 0, 0]]       []   \n",
      "9999  [[11, 1, 0, 0, 0, 0]]       []   \n",
      "\n",
      "                                          old_gameboard  \\\n",
      "0     [[[7, 1, 0, 0, 0, 0], [8, 1, 0, 0, 0, 0], [9, ...   \n",
      "1     [[[6, 0, 1, 0, 0, 0], [7, 0, 1, 0, 0, 0], [8, ...   \n",
      "2     [[[1, 0, 1, 0, 0, 0], [2, 0, 1, 0, 0, 0], [3, ...   \n",
      "3     [[[1, 1, 0, 0, 0, 0], [2, 1, 0, 0, 0, 0], [3, ...   \n",
      "4     [[[2, 1, 0, 0, 0, 0], [3, 1, 0, 0, 0, 0], [4, ...   \n",
      "...                                                 ...   \n",
      "9995  [[[1, 0, 0, 1, 0, 0], [2, 0, 0, 1, 0, 0], [3, ...   \n",
      "9996  [[[1, 1, 0, 0, 0, 0], [2, 1, 0, 0, 0, 0], [3, ...   \n",
      "9997  [[[1, 1, 0, 0, 0, 0], [2, 1, 0, 0, 0, 0], [3, ...   \n",
      "9998  [[[3, 0, 0, 0, 1, 0], [4, 0, 0, 0, 1, 0], [5, ...   \n",
      "9999  [[[3, 1, 0, 0, 0, 0], [4, 1, 0, 0, 0, 0], [5, ...   \n",
      "\n",
      "                                          new_gameboard  correct  points  \n",
      "0     [[[7, 1, 0, 0, 0, 0], [8, 1, 0, 0, 0, 0], [9, ...     True      10  \n",
      "1     [[[5, 0, 1, 0, 0, 0], [6, 0, 1, 0, 0, 0], [7, ...     True       5  \n",
      "2     [[[1, 0, 1, 0, 0, 0], [2, 0, 1, 0, 0, 0], [3, ...     True      13  \n",
      "3     [[[1, 1, 0, 0, 0, 0], [2, 1, 0, 0, 0, 0], [3, ...     True      10  \n",
      "4     [[[1, 1, 0, 0, 0, 0], [2, 1, 0, 0, 0, 0], [3, ...     True       1  \n",
      "...                                                 ...      ...     ...  \n",
      "9995  [[[1, 0, 0, 1, 0, 0], [2, 0, 0, 1, 0, 0], [3, ...    False      11  \n",
      "9996  [[[1, 0, 0, 0, 1, 0], [1, 1, 0, 0, 0, 0], [2, ...    False       1  \n",
      "9997  [[[1, 1, 0, 0, 0, 0], [2, 1, 0, 0, 0, 0], [3, ...    False       7  \n",
      "9998  [[[5, 0, 1, 0, 0, 0], [3, 0, 0, 0, 1, 0], [4, ...    False       5  \n",
      "9999  [[[3, 1, 0, 0, 0, 0], [4, 1, 0, 0, 0, 0], [5, ...    False      11  \n",
      "\n",
      "[10000 rows x 6 columns]\n"
     ]
    }
   ],
   "source": [
    "import pandas as pd\n",
    "df = pd.DataFrame(rows, columns=['old_hand', 'new_hand', 'old_gameboard', 'new_gameboard', 'correct', 'points'])\n",
    "print(df)"
   ]
  },
  {
   "cell_type": "code",
   "execution_count": 172,
   "metadata": {},
   "outputs": [],
   "source": [
    "from sklearn.model_selection import train_test_split\n",
    "x_train, x_test, y_train, y_test = train_test_split(df['new_gameboard'], df['correct'], train_size=5000, shuffle=True)"
   ]
  },
  {
   "cell_type": "code",
   "execution_count": 182,
   "metadata": {},
   "outputs": [
    {
     "name": "stdout",
     "output_type": "stream",
     "text": [
      "6679    False\n",
      "5588    False\n",
      "5885    False\n",
      "6363    False\n",
      "8813    False\n",
      "        ...  \n",
      "9934    False\n",
      "7108    False\n",
      "9384    False\n",
      "6449    False\n",
      "7413    False\n",
      "Name: correct, Length: 2447, dtype: bool\n",
      "[[[9, 0, 1, 0, 0, 0], [10, 0, 1, 0, 0, 0], [11, 0, 1, 0, 0, 0], [8, 0, 0, 1, 0, 0], [12, 0, 1, 0, 0, 0]]]\n"
     ]
    }
   ],
   "source": [
    "print(y_train.loc[y_train==False])\n",
    "print(x_train[6679])"
   ]
  },
  {
   "cell_type": "markdown",
   "metadata": {},
   "source": [
    "## Testing using NN"
   ]
  },
  {
   "cell_type": "markdown",
   "metadata": {},
   "source": [
    "## TODO use RNN??? Benefit: Can process variable length input"
   ]
  },
  {
   "cell_type": "code",
   "execution_count": 188,
   "metadata": {},
   "outputs": [],
   "source": [
    "f = torch.nn.Sequential(\n",
    "    torch.nn.Linear(in_features=6, out_features=100),\n",
    "    torch.nn.ReLU(), \n",
    "    torch.nn.Linear(in_features=100, out_features=2), \n",
    "    torch.nn.Sigmoid()  \n",
    ").to(device)\n",
    "\n",
    "loss_fn = torch.nn.MSELoss()"
   ]
  },
  {
   "cell_type": "code",
   "execution_count": 190,
   "metadata": {},
   "outputs": [
    {
     "ename": "AttributeError",
     "evalue": "'Series' object has no attribute 'dim'",
     "output_type": "error",
     "traceback": [
      "\u001b[1;31m---------------------------------------------------------------------------\u001b[0m",
      "\u001b[1;31mAttributeError\u001b[0m                            Traceback (most recent call last)",
      "\u001b[1;32m<ipython-input-190-d8289a1b7e44>\u001b[0m in \u001b[0;36m<module>\u001b[1;34m\u001b[0m\n\u001b[0;32m      1\u001b[0m \u001b[0mopt\u001b[0m \u001b[1;33m=\u001b[0m \u001b[0mtorch\u001b[0m\u001b[1;33m.\u001b[0m\u001b[0moptim\u001b[0m\u001b[1;33m.\u001b[0m\u001b[0mAdam\u001b[0m\u001b[1;33m(\u001b[0m\u001b[0mf\u001b[0m\u001b[1;33m.\u001b[0m\u001b[0mparameters\u001b[0m\u001b[1;33m(\u001b[0m\u001b[1;33m)\u001b[0m\u001b[1;33m)\u001b[0m  \u001b[1;31m# initiate optimizer\u001b[0m\u001b[1;33m\u001b[0m\u001b[1;33m\u001b[0m\u001b[0m\n\u001b[0;32m      2\u001b[0m \u001b[1;32mfor\u001b[0m \u001b[0mt\u001b[0m \u001b[1;32min\u001b[0m \u001b[0mrange\u001b[0m\u001b[1;33m(\u001b[0m\u001b[1;36m5001\u001b[0m\u001b[1;33m)\u001b[0m\u001b[1;33m:\u001b[0m  \u001b[1;31m# iterate\u001b[0m\u001b[1;33m\u001b[0m\u001b[1;33m\u001b[0m\u001b[0m\n\u001b[1;32m----> 3\u001b[1;33m     \u001b[0mprediction\u001b[0m \u001b[1;33m=\u001b[0m \u001b[0mf\u001b[0m\u001b[1;33m(\u001b[0m\u001b[0mx_train\u001b[0m\u001b[1;33m)\u001b[0m  \u001b[1;31m# predict\u001b[0m\u001b[1;33m\u001b[0m\u001b[1;33m\u001b[0m\u001b[0m\n\u001b[0m\u001b[0;32m      4\u001b[0m     \u001b[0mloss\u001b[0m \u001b[1;33m=\u001b[0m \u001b[0mloss_fn\u001b[0m\u001b[1;33m(\u001b[0m\u001b[0mprediction\u001b[0m\u001b[1;33m,\u001b[0m \u001b[0my_train\u001b[0m\u001b[1;33m)\u001b[0m  \u001b[1;31m# compute loss\u001b[0m\u001b[1;33m\u001b[0m\u001b[1;33m\u001b[0m\u001b[0m\n\u001b[0;32m      5\u001b[0m     \u001b[0mloss\u001b[0m\u001b[1;33m.\u001b[0m\u001b[0mbackward\u001b[0m\u001b[1;33m(\u001b[0m\u001b[1;33m)\u001b[0m  \u001b[1;31m# backpropagate\u001b[0m\u001b[1;33m\u001b[0m\u001b[1;33m\u001b[0m\u001b[0m\n",
      "\u001b[1;32m~\\Anaconda3\\envs\\gameAI\\lib\\site-packages\\torch\\nn\\modules\\module.py\u001b[0m in \u001b[0;36m__call__\u001b[1;34m(self, *input, **kwargs)\u001b[0m\n\u001b[0;32m    539\u001b[0m             \u001b[0mresult\u001b[0m \u001b[1;33m=\u001b[0m \u001b[0mself\u001b[0m\u001b[1;33m.\u001b[0m\u001b[0m_slow_forward\u001b[0m\u001b[1;33m(\u001b[0m\u001b[1;33m*\u001b[0m\u001b[0minput\u001b[0m\u001b[1;33m,\u001b[0m \u001b[1;33m**\u001b[0m\u001b[0mkwargs\u001b[0m\u001b[1;33m)\u001b[0m\u001b[1;33m\u001b[0m\u001b[1;33m\u001b[0m\u001b[0m\n\u001b[0;32m    540\u001b[0m         \u001b[1;32melse\u001b[0m\u001b[1;33m:\u001b[0m\u001b[1;33m\u001b[0m\u001b[1;33m\u001b[0m\u001b[0m\n\u001b[1;32m--> 541\u001b[1;33m             \u001b[0mresult\u001b[0m \u001b[1;33m=\u001b[0m \u001b[0mself\u001b[0m\u001b[1;33m.\u001b[0m\u001b[0mforward\u001b[0m\u001b[1;33m(\u001b[0m\u001b[1;33m*\u001b[0m\u001b[0minput\u001b[0m\u001b[1;33m,\u001b[0m \u001b[1;33m**\u001b[0m\u001b[0mkwargs\u001b[0m\u001b[1;33m)\u001b[0m\u001b[1;33m\u001b[0m\u001b[1;33m\u001b[0m\u001b[0m\n\u001b[0m\u001b[0;32m    542\u001b[0m         \u001b[1;32mfor\u001b[0m \u001b[0mhook\u001b[0m \u001b[1;32min\u001b[0m \u001b[0mself\u001b[0m\u001b[1;33m.\u001b[0m\u001b[0m_forward_hooks\u001b[0m\u001b[1;33m.\u001b[0m\u001b[0mvalues\u001b[0m\u001b[1;33m(\u001b[0m\u001b[1;33m)\u001b[0m\u001b[1;33m:\u001b[0m\u001b[1;33m\u001b[0m\u001b[1;33m\u001b[0m\u001b[0m\n\u001b[0;32m    543\u001b[0m             \u001b[0mhook_result\u001b[0m \u001b[1;33m=\u001b[0m \u001b[0mhook\u001b[0m\u001b[1;33m(\u001b[0m\u001b[0mself\u001b[0m\u001b[1;33m,\u001b[0m \u001b[0minput\u001b[0m\u001b[1;33m,\u001b[0m \u001b[0mresult\u001b[0m\u001b[1;33m)\u001b[0m\u001b[1;33m\u001b[0m\u001b[1;33m\u001b[0m\u001b[0m\n",
      "\u001b[1;32m~\\Anaconda3\\envs\\gameAI\\lib\\site-packages\\torch\\nn\\modules\\container.py\u001b[0m in \u001b[0;36mforward\u001b[1;34m(self, input)\u001b[0m\n\u001b[0;32m     90\u001b[0m     \u001b[1;32mdef\u001b[0m \u001b[0mforward\u001b[0m\u001b[1;33m(\u001b[0m\u001b[0mself\u001b[0m\u001b[1;33m,\u001b[0m \u001b[0minput\u001b[0m\u001b[1;33m)\u001b[0m\u001b[1;33m:\u001b[0m\u001b[1;33m\u001b[0m\u001b[1;33m\u001b[0m\u001b[0m\n\u001b[0;32m     91\u001b[0m         \u001b[1;32mfor\u001b[0m \u001b[0mmodule\u001b[0m \u001b[1;32min\u001b[0m \u001b[0mself\u001b[0m\u001b[1;33m.\u001b[0m\u001b[0m_modules\u001b[0m\u001b[1;33m.\u001b[0m\u001b[0mvalues\u001b[0m\u001b[1;33m(\u001b[0m\u001b[1;33m)\u001b[0m\u001b[1;33m:\u001b[0m\u001b[1;33m\u001b[0m\u001b[1;33m\u001b[0m\u001b[0m\n\u001b[1;32m---> 92\u001b[1;33m             \u001b[0minput\u001b[0m \u001b[1;33m=\u001b[0m \u001b[0mmodule\u001b[0m\u001b[1;33m(\u001b[0m\u001b[0minput\u001b[0m\u001b[1;33m)\u001b[0m\u001b[1;33m\u001b[0m\u001b[1;33m\u001b[0m\u001b[0m\n\u001b[0m\u001b[0;32m     93\u001b[0m         \u001b[1;32mreturn\u001b[0m \u001b[0minput\u001b[0m\u001b[1;33m\u001b[0m\u001b[1;33m\u001b[0m\u001b[0m\n\u001b[0;32m     94\u001b[0m \u001b[1;33m\u001b[0m\u001b[0m\n",
      "\u001b[1;32m~\\Anaconda3\\envs\\gameAI\\lib\\site-packages\\torch\\nn\\modules\\module.py\u001b[0m in \u001b[0;36m__call__\u001b[1;34m(self, *input, **kwargs)\u001b[0m\n\u001b[0;32m    539\u001b[0m             \u001b[0mresult\u001b[0m \u001b[1;33m=\u001b[0m \u001b[0mself\u001b[0m\u001b[1;33m.\u001b[0m\u001b[0m_slow_forward\u001b[0m\u001b[1;33m(\u001b[0m\u001b[1;33m*\u001b[0m\u001b[0minput\u001b[0m\u001b[1;33m,\u001b[0m \u001b[1;33m**\u001b[0m\u001b[0mkwargs\u001b[0m\u001b[1;33m)\u001b[0m\u001b[1;33m\u001b[0m\u001b[1;33m\u001b[0m\u001b[0m\n\u001b[0;32m    540\u001b[0m         \u001b[1;32melse\u001b[0m\u001b[1;33m:\u001b[0m\u001b[1;33m\u001b[0m\u001b[1;33m\u001b[0m\u001b[0m\n\u001b[1;32m--> 541\u001b[1;33m             \u001b[0mresult\u001b[0m \u001b[1;33m=\u001b[0m \u001b[0mself\u001b[0m\u001b[1;33m.\u001b[0m\u001b[0mforward\u001b[0m\u001b[1;33m(\u001b[0m\u001b[1;33m*\u001b[0m\u001b[0minput\u001b[0m\u001b[1;33m,\u001b[0m \u001b[1;33m**\u001b[0m\u001b[0mkwargs\u001b[0m\u001b[1;33m)\u001b[0m\u001b[1;33m\u001b[0m\u001b[1;33m\u001b[0m\u001b[0m\n\u001b[0m\u001b[0;32m    542\u001b[0m         \u001b[1;32mfor\u001b[0m \u001b[0mhook\u001b[0m \u001b[1;32min\u001b[0m \u001b[0mself\u001b[0m\u001b[1;33m.\u001b[0m\u001b[0m_forward_hooks\u001b[0m\u001b[1;33m.\u001b[0m\u001b[0mvalues\u001b[0m\u001b[1;33m(\u001b[0m\u001b[1;33m)\u001b[0m\u001b[1;33m:\u001b[0m\u001b[1;33m\u001b[0m\u001b[1;33m\u001b[0m\u001b[0m\n\u001b[0;32m    543\u001b[0m             \u001b[0mhook_result\u001b[0m \u001b[1;33m=\u001b[0m \u001b[0mhook\u001b[0m\u001b[1;33m(\u001b[0m\u001b[0mself\u001b[0m\u001b[1;33m,\u001b[0m \u001b[0minput\u001b[0m\u001b[1;33m,\u001b[0m \u001b[0mresult\u001b[0m\u001b[1;33m)\u001b[0m\u001b[1;33m\u001b[0m\u001b[1;33m\u001b[0m\u001b[0m\n",
      "\u001b[1;32m~\\Anaconda3\\envs\\gameAI\\lib\\site-packages\\torch\\nn\\modules\\linear.py\u001b[0m in \u001b[0;36mforward\u001b[1;34m(self, input)\u001b[0m\n\u001b[0;32m     85\u001b[0m \u001b[1;33m\u001b[0m\u001b[0m\n\u001b[0;32m     86\u001b[0m     \u001b[1;32mdef\u001b[0m \u001b[0mforward\u001b[0m\u001b[1;33m(\u001b[0m\u001b[0mself\u001b[0m\u001b[1;33m,\u001b[0m \u001b[0minput\u001b[0m\u001b[1;33m)\u001b[0m\u001b[1;33m:\u001b[0m\u001b[1;33m\u001b[0m\u001b[1;33m\u001b[0m\u001b[0m\n\u001b[1;32m---> 87\u001b[1;33m         \u001b[1;32mreturn\u001b[0m \u001b[0mF\u001b[0m\u001b[1;33m.\u001b[0m\u001b[0mlinear\u001b[0m\u001b[1;33m(\u001b[0m\u001b[0minput\u001b[0m\u001b[1;33m,\u001b[0m \u001b[0mself\u001b[0m\u001b[1;33m.\u001b[0m\u001b[0mweight\u001b[0m\u001b[1;33m,\u001b[0m \u001b[0mself\u001b[0m\u001b[1;33m.\u001b[0m\u001b[0mbias\u001b[0m\u001b[1;33m)\u001b[0m\u001b[1;33m\u001b[0m\u001b[1;33m\u001b[0m\u001b[0m\n\u001b[0m\u001b[0;32m     88\u001b[0m \u001b[1;33m\u001b[0m\u001b[0m\n\u001b[0;32m     89\u001b[0m     \u001b[1;32mdef\u001b[0m \u001b[0mextra_repr\u001b[0m\u001b[1;33m(\u001b[0m\u001b[0mself\u001b[0m\u001b[1;33m)\u001b[0m\u001b[1;33m:\u001b[0m\u001b[1;33m\u001b[0m\u001b[1;33m\u001b[0m\u001b[0m\n",
      "\u001b[1;32m~\\Anaconda3\\envs\\gameAI\\lib\\site-packages\\torch\\nn\\functional.py\u001b[0m in \u001b[0;36mlinear\u001b[1;34m(input, weight, bias)\u001b[0m\n\u001b[0;32m   1366\u001b[0m         \u001b[1;33m-\u001b[0m \u001b[0mOutput\u001b[0m\u001b[1;33m:\u001b[0m \u001b[1;33m:\u001b[0m\u001b[0mmath\u001b[0m\u001b[1;33m:\u001b[0m\u001b[0;31m`\u001b[0m\u001b[1;33m(\u001b[0m\u001b[0mN\u001b[0m\u001b[1;33m,\u001b[0m \u001b[1;33m*\u001b[0m\u001b[1;33m,\u001b[0m \u001b[0mout\u001b[0m\u001b[0;31m\\\u001b[0m\u001b[0m_features\u001b[0m\u001b[1;33m)\u001b[0m\u001b[0;31m`\u001b[0m\u001b[1;33m\u001b[0m\u001b[1;33m\u001b[0m\u001b[0m\n\u001b[0;32m   1367\u001b[0m     \"\"\"\n\u001b[1;32m-> 1368\u001b[1;33m     \u001b[1;32mif\u001b[0m \u001b[0minput\u001b[0m\u001b[1;33m.\u001b[0m\u001b[0mdim\u001b[0m\u001b[1;33m(\u001b[0m\u001b[1;33m)\u001b[0m \u001b[1;33m==\u001b[0m \u001b[1;36m2\u001b[0m \u001b[1;32mand\u001b[0m \u001b[0mbias\u001b[0m \u001b[1;32mis\u001b[0m \u001b[1;32mnot\u001b[0m \u001b[1;32mNone\u001b[0m\u001b[1;33m:\u001b[0m\u001b[1;33m\u001b[0m\u001b[1;33m\u001b[0m\u001b[0m\n\u001b[0m\u001b[0;32m   1369\u001b[0m         \u001b[1;31m# fused op is marginally faster\u001b[0m\u001b[1;33m\u001b[0m\u001b[1;33m\u001b[0m\u001b[1;33m\u001b[0m\u001b[0m\n\u001b[0;32m   1370\u001b[0m         \u001b[0mret\u001b[0m \u001b[1;33m=\u001b[0m \u001b[0mtorch\u001b[0m\u001b[1;33m.\u001b[0m\u001b[0maddmm\u001b[0m\u001b[1;33m(\u001b[0m\u001b[0mbias\u001b[0m\u001b[1;33m,\u001b[0m \u001b[0minput\u001b[0m\u001b[1;33m,\u001b[0m \u001b[0mweight\u001b[0m\u001b[1;33m.\u001b[0m\u001b[0mt\u001b[0m\u001b[1;33m(\u001b[0m\u001b[1;33m)\u001b[0m\u001b[1;33m)\u001b[0m\u001b[1;33m\u001b[0m\u001b[1;33m\u001b[0m\u001b[0m\n",
      "\u001b[1;32m~\\Anaconda3\\envs\\gameAI\\lib\\site-packages\\pandas\\core\\generic.py\u001b[0m in \u001b[0;36m__getattr__\u001b[1;34m(self, name)\u001b[0m\n\u001b[0;32m   5272\u001b[0m             \u001b[1;32mif\u001b[0m \u001b[0mself\u001b[0m\u001b[1;33m.\u001b[0m\u001b[0m_info_axis\u001b[0m\u001b[1;33m.\u001b[0m\u001b[0m_can_hold_identifiers_and_holds_name\u001b[0m\u001b[1;33m(\u001b[0m\u001b[0mname\u001b[0m\u001b[1;33m)\u001b[0m\u001b[1;33m:\u001b[0m\u001b[1;33m\u001b[0m\u001b[1;33m\u001b[0m\u001b[0m\n\u001b[0;32m   5273\u001b[0m                 \u001b[1;32mreturn\u001b[0m \u001b[0mself\u001b[0m\u001b[1;33m[\u001b[0m\u001b[0mname\u001b[0m\u001b[1;33m]\u001b[0m\u001b[1;33m\u001b[0m\u001b[1;33m\u001b[0m\u001b[0m\n\u001b[1;32m-> 5274\u001b[1;33m             \u001b[1;32mreturn\u001b[0m \u001b[0mobject\u001b[0m\u001b[1;33m.\u001b[0m\u001b[0m__getattribute__\u001b[0m\u001b[1;33m(\u001b[0m\u001b[0mself\u001b[0m\u001b[1;33m,\u001b[0m \u001b[0mname\u001b[0m\u001b[1;33m)\u001b[0m\u001b[1;33m\u001b[0m\u001b[1;33m\u001b[0m\u001b[0m\n\u001b[0m\u001b[0;32m   5275\u001b[0m \u001b[1;33m\u001b[0m\u001b[0m\n\u001b[0;32m   5276\u001b[0m     \u001b[1;32mdef\u001b[0m \u001b[0m__setattr__\u001b[0m\u001b[1;33m(\u001b[0m\u001b[0mself\u001b[0m\u001b[1;33m,\u001b[0m \u001b[0mname\u001b[0m\u001b[1;33m:\u001b[0m \u001b[0mstr\u001b[0m\u001b[1;33m,\u001b[0m \u001b[0mvalue\u001b[0m\u001b[1;33m)\u001b[0m \u001b[1;33m->\u001b[0m \u001b[1;32mNone\u001b[0m\u001b[1;33m:\u001b[0m\u001b[1;33m\u001b[0m\u001b[1;33m\u001b[0m\u001b[0m\n",
      "\u001b[1;31mAttributeError\u001b[0m: 'Series' object has no attribute 'dim'"
     ]
    }
   ],
   "source": [
    "opt = torch.optim.Adam(f.parameters())  # initiate optimizer\n",
    "for t in range(5001):  # iterate\n",
    "    prediction = f(x_train)  # predict \n",
    "    loss = loss_fn(prediction, y_train)  # compute loss\n",
    "    loss.backward()  # backpropagate\n",
    "    opt.step()  # optimize\n",
    "    opt.zero_grad()  # reset gradients\n",
    "    if t%500 == 0:\n",
    "        print('Iteration {} loss: {}'.format(t, loss.item()))"
   ]
  },
  {
   "cell_type": "code",
   "execution_count": null,
   "metadata": {},
   "outputs": [],
   "source": []
  }
 ],
 "metadata": {
  "kernelspec": {
   "display_name": "Python 3",
   "language": "python",
   "name": "python3"
  },
  "language_info": {
   "codemirror_mode": {
    "name": "ipython",
    "version": 3
   },
   "file_extension": ".py",
   "mimetype": "text/x-python",
   "name": "python",
   "nbconvert_exporter": "python",
   "pygments_lexer": "ipython3",
   "version": "3.7.9"
  }
 },
 "nbformat": 4,
 "nbformat_minor": 4
}
